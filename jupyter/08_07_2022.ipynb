{
 "cells": [
  {
   "cell_type": "code",
   "execution_count": 1,
   "metadata": {
    "colab": {
     "base_uri": "https://localhost:8080/"
    },
    "id": "p_XX39RPIHe3",
    "outputId": "a6a6151f-6547-4bf3-be5f-3b2cc309127b"
   },
   "outputs": [
    {
     "name": "stdout",
     "output_type": "stream",
     "text": [
      "Requirement already satisfied: pyodbc in c:\\programdata\\anaconda3\\lib\\site-packages (4.0.0-unsupported)\n",
      "Note: you may need to restart the kernel to use updated packages.\n"
     ]
    }
   ],
   "source": [
    " pip install pyodbc"
   ]
  },
  {
   "cell_type": "code",
   "execution_count": 2,
   "metadata": {
    "id": "xjGXqdShO-nu"
   },
   "outputs": [],
   "source": [
    "import pyodbc\n",
    "from random import *\n",
    "import datetime\n",
    "import pandas as pd"
   ]
  },
  {
   "cell_type": "code",
   "execution_count": 3,
   "metadata": {
    "colab": {
     "base_uri": "https://localhost:8080/"
    },
    "id": "ZxpR5l6OIhky",
    "outputId": "69a0eacc-86b9-4de2-afcb-15538f3af31a"
   },
   "outputs": [
    {
     "data": {
      "text/plain": [
       "['SQL Server',\n",
       " 'Microsoft Access Driver (*.mdb, *.accdb)',\n",
       " 'Microsoft Excel Driver (*.xls, *.xlsx, *.xlsm, *.xlsb)',\n",
       " 'Microsoft Access Text Driver (*.txt, *.csv)',\n",
       " 'SQL Server Native Client 11.0',\n",
       " 'SQL Server Native Client RDA 11.0',\n",
       " 'ODBC Driver 17 for SQL Server']"
      ]
     },
     "execution_count": 3,
     "metadata": {},
     "output_type": "execute_result"
    }
   ],
   "source": [
    "pyodbc.drivers()"
   ]
  },
  {
   "cell_type": "code",
   "execution_count": 4,
   "metadata": {
    "id": "u1XTOejUItTJ"
   },
   "outputs": [],
   "source": [
    "conn = pyodbc.connect('Driver={SQL Server Native Client 11.0};'\n",
    "                      'Server=SB2000LAP7316\\SQLEXPRESS;'\n",
    "                      'Database=FRM;'\n",
    "                      'Trusted_Connection=yes;')"
   ]
  },
  {
   "cell_type": "code",
   "execution_count": null,
   "metadata": {
    "id": "DJ61rMyTIujF"
   },
   "outputs": [],
   "source": [
    "cursor = conn.cursor()\n",
    "cursor.execute('select * from dbo.may')\n",
    "\n",
    "for i in cursor:\n",
    "    print(i)"
   ]
  },
  {
   "cell_type": "code",
   "execution_count": 6,
   "metadata": {
    "colab": {
     "base_uri": "https://localhost:8080/",
     "height": 200
    },
    "id": "kKwasOhYI2OB",
    "outputId": "b31a7816-eb5b-433f-fe12-c08a5af86dba"
   },
   "outputs": [
    {
     "name": "stdout",
     "output_type": "stream",
     "text": [
      "          S_NO                              TRAN_ID  \\\n",
      "0       4373.0  YBL7c83d2d535e0472989354e661773cdf2   \n",
      "1       4374.0  IBLb8ecccd7601341439f3ca8984fe06984   \n",
      "2       4375.0  YBL085b31c627ce4f20b2797d2f91d97244   \n",
      "3       4376.0  AXL4ae3ebb2b1464b7f9a213739a3ea4466   \n",
      "4       4377.0  PTMa854c6b6ebb64748ab004929398e950e   \n",
      "...        ...                                  ...   \n",
      "65530  63838.0  YBL6239887c05924b799cf268c6832d60e6   \n",
      "65531  63839.0  SBI06d2e7cf2a374d51920a99bf8b13663e   \n",
      "65532  63840.0  SBIa974ec161e294a0b94a3cc8942167dcf   \n",
      "65533  63841.0  PTMf03f1f590faa45188f90ca7d922e041b   \n",
      "65534  63842.0  ICIa58614cb9820469caa48b27317772481   \n",
      "\n",
      "                       TRAN_TYPE     PAYER_MOB  PAYER_ACCT_NO  \\\n",
      "0                          DEBIT  9.194100e+11   1.018105e+11   \n",
      "1                         CREDIT  9.179822e+11   2.015981e+10   \n",
      "2                          DEBIT  9.184308e+11   1.009100e+11   \n",
      "3      BALANCE ENQUIRY (ISSUING)  9.198190e+11   1.016105e+11   \n",
      "4      BALANCE ENQUIRY (ISSUING)  9.195202e+11   1.003105e+11   \n",
      "...                          ...           ...            ...   \n",
      "65530  BALANCE ENQUIRY (ISSUING)  9.196504e+11   1.007100e+11   \n",
      "65531                      DEBIT  9.198711e+11   1.027100e+11   \n",
      "65532                     CREDIT  9.189507e+11   3.957323e+10   \n",
      "65533                      DEBIT  9.194504e+11   1.024105e+11   \n",
      "65534                      DEBIT  9.178307e+11   1.012100e+11   \n",
      "\n",
      "                    PAYER_ADDRESS  \\\n",
      "0          9410041613sandeep1@ybl   \n",
      "1              avinash.sudhir@ibl   \n",
      "2                  8430811435@ybl   \n",
      "3              amarpal.rajput@axl   \n",
      "4                9520212907@paytm   \n",
      "...                           ...   \n",
      "65530              9650377291@ybl   \n",
      "65531  chandraprakash120184@oksbi   \n",
      "65532       katariarohit073@oksbi   \n",
      "65533            9450396523@paytm   \n",
      "65534    gaganfab.shamlal@okicici   \n",
      "\n",
      "      Payee Account Number (CREDIT txn and mobile nuber to fetch from   \\\n",
      "0                                                   None                 \n",
      "1                                                   None                 \n",
      "2                                                   None                 \n",
      "3                                                      -                 \n",
      "4                                                      -                 \n",
      "...                                                  ...                 \n",
      "65530                                                  -                 \n",
      "65531                                               None                 \n",
      "65532                                               None                 \n",
      "65533                                               None                 \n",
      "65534                                               None                 \n",
      "\n",
      "           TRAN_DATE_TIME    REQUEST_DATE_TIME   RESPONSE_DATE_TIME   AMOUNT  \\\n",
      "0     2022-05-01 09:30:47  01/05/2022 09:30:47  01/05/2022 09:30:47    400.0   \n",
      "1     2022-05-01 09:30:48  01/05/2022 09:30:48  01/05/2022 09:30:49    128.0   \n",
      "2     2022-05-01 09:30:50  01/05/2022 09:30:49  01/05/2022 09:30:50    300.0   \n",
      "3     2022-05-01 09:30:54  01/05/2022 09:30:54  01/05/2022 09:30:54      0.0   \n",
      "4     2022-05-01 09:30:54  01/05/2022 09:30:54  01/05/2022 09:30:54      0.0   \n",
      "...                   ...                  ...                  ...      ...   \n",
      "65530 2022-05-03 08:07:05  03/05/2022 08:07:05  03/05/2022 08:07:06      0.0   \n",
      "65531 2022-05-03 08:07:07  03/05/2022 08:07:07  03/05/2022 08:07:08    120.0   \n",
      "65532 2022-05-03 08:07:15  03/05/2022 08:07:15  03/05/2022 08:07:15      1.0   \n",
      "65533 2022-05-03 08:07:17  03/05/2022 08:07:17  03/05/2022 08:07:18    500.0   \n",
      "65534 2022-05-03 08:07:18  03/05/2022 08:07:18  03/05/2022 08:07:19  10000.0   \n",
      "\n",
      "      TRAN_STATUS RESPONSE_ADDRESS                          TRAN_REF_ID  \\\n",
      "0         SUCCESS         Approved              T2205010930376401168006   \n",
      "1         SUCCESS         Approved              T2205010930344319085607   \n",
      "2         SUCCESS         Approved              T2205010930454784236970   \n",
      "3         SUCCESS         Approved             UM2205010930472477571373   \n",
      "4         SUCCESS         Approved  PTMa854c6b6ebb64748ab004929398e950e   \n",
      "...           ...              ...                                  ...   \n",
      "65530     SUCCESS         Approved             UM2205030806569358798470   \n",
      "65531     SUCCESS         Approved  SBI06d2e7cf2a374d51920a99bf8b13663e   \n",
      "65532     SUCCESS         Approved  SBIa974ec161e294a0b94a3cc8942167dcf   \n",
      "65533     SUCCESS         Approved  PTMf03f1f590faa45188f90ca7d922e041b   \n",
      "65534     SUCCESS         Approved  ICIa58614cb9820469caa48b27317772481   \n",
      "\n",
      "      PAYEE_MOB_NO  SOL_ID  \n",
      "0       9410041613  1018.0  \n",
      "1       7982150844  1015.0  \n",
      "2       8430811435  1009.0  \n",
      "3       9818972408  1016.0  \n",
      "4       9520212907  1003.0  \n",
      "...            ...     ...  \n",
      "65530   9650377291  1007.0  \n",
      "65531   9871094043  1027.0  \n",
      "65532   8950707095  1014.0  \n",
      "65533   9450396523  1024.0  \n",
      "65534   7830735151  1012.0  \n",
      "\n",
      "[65535 rows x 16 columns]\n"
     ]
    }
   ],
   "source": [
    "query = \"\"\"select * from dbo.may\"\"\"\n",
    "df = pd.read_sql(query, conn)\n",
    "print(df)"
   ]
  },
  {
   "cell_type": "code",
   "execution_count": 7,
   "metadata": {
    "id": "QuOyJTidI7fZ"
   },
   "outputs": [
    {
     "data": {
      "text/plain": [
       "S_NO                                                                       float64\n",
       "TRAN_ID                                                                     object\n",
       "TRAN_TYPE                                                                   object\n",
       "PAYER_MOB                                                                  float64\n",
       "PAYER_ACCT_NO                                                              float64\n",
       "PAYER_ADDRESS                                                               object\n",
       "Payee Account Number (CREDIT txn and mobile nuber to fetch from             object\n",
       "TRAN_DATE_TIME                                                      datetime64[ns]\n",
       "REQUEST_DATE_TIME                                                           object\n",
       "RESPONSE_DATE_TIME                                                          object\n",
       "AMOUNT                                                                     float64\n",
       "TRAN_STATUS                                                                 object\n",
       "RESPONSE_ADDRESS                                                            object\n",
       "TRAN_REF_ID                                                                 object\n",
       "PAYEE_MOB_NO                                                                object\n",
       "SOL_ID                                                                     float64\n",
       "dtype: object"
      ]
     },
     "execution_count": 7,
     "metadata": {},
     "output_type": "execute_result"
    }
   ],
   "source": [
    "df.dtypes"
   ]
  },
  {
   "cell_type": "code",
   "execution_count": 8,
   "metadata": {
    "id": "M1ER8OecI8zR"
   },
   "outputs": [
    {
     "data": {
      "text/html": [
       "<div>\n",
       "<style scoped>\n",
       "    .dataframe tbody tr th:only-of-type {\n",
       "        vertical-align: middle;\n",
       "    }\n",
       "\n",
       "    .dataframe tbody tr th {\n",
       "        vertical-align: top;\n",
       "    }\n",
       "\n",
       "    .dataframe thead th {\n",
       "        text-align: right;\n",
       "    }\n",
       "</style>\n",
       "<table border=\"1\" class=\"dataframe\">\n",
       "  <thead>\n",
       "    <tr style=\"text-align: right;\">\n",
       "      <th></th>\n",
       "      <th>S_NO</th>\n",
       "      <th>TRAN_ID</th>\n",
       "      <th>TRAN_TYPE</th>\n",
       "      <th>PAYER_MOB</th>\n",
       "      <th>PAYER_ACCT_NO</th>\n",
       "      <th>PAYER_ADDRESS</th>\n",
       "      <th>Payee Account Number (CREDIT txn and mobile nuber to fetch from</th>\n",
       "      <th>TRAN_DATE_TIME</th>\n",
       "      <th>REQUEST_DATE_TIME</th>\n",
       "      <th>RESPONSE_DATE_TIME</th>\n",
       "      <th>AMOUNT</th>\n",
       "      <th>TRAN_STATUS</th>\n",
       "      <th>RESPONSE_ADDRESS</th>\n",
       "      <th>TRAN_REF_ID</th>\n",
       "      <th>PAYEE_MOB_NO</th>\n",
       "      <th>SOL_ID</th>\n",
       "    </tr>\n",
       "  </thead>\n",
       "  <tbody>\n",
       "    <tr>\n",
       "      <th>0</th>\n",
       "      <td>4373.0</td>\n",
       "      <td>YBL7c83d2d535e0472989354e661773cdf2</td>\n",
       "      <td>DEBIT</td>\n",
       "      <td>9.194100e+11</td>\n",
       "      <td>1.018105e+11</td>\n",
       "      <td>9410041613sandeep1@ybl</td>\n",
       "      <td>None</td>\n",
       "      <td>2022-05-01 09:30:47</td>\n",
       "      <td>01/05/2022 09:30:47</td>\n",
       "      <td>01/05/2022 09:30:47</td>\n",
       "      <td>400.0</td>\n",
       "      <td>SUCCESS</td>\n",
       "      <td>Approved</td>\n",
       "      <td>T2205010930376401168006</td>\n",
       "      <td>9410041613</td>\n",
       "      <td>1018.0</td>\n",
       "    </tr>\n",
       "    <tr>\n",
       "      <th>1</th>\n",
       "      <td>4374.0</td>\n",
       "      <td>IBLb8ecccd7601341439f3ca8984fe06984</td>\n",
       "      <td>CREDIT</td>\n",
       "      <td>9.179822e+11</td>\n",
       "      <td>2.015981e+10</td>\n",
       "      <td>avinash.sudhir@ibl</td>\n",
       "      <td>None</td>\n",
       "      <td>2022-05-01 09:30:48</td>\n",
       "      <td>01/05/2022 09:30:48</td>\n",
       "      <td>01/05/2022 09:30:49</td>\n",
       "      <td>128.0</td>\n",
       "      <td>SUCCESS</td>\n",
       "      <td>Approved</td>\n",
       "      <td>T2205010930344319085607</td>\n",
       "      <td>7982150844</td>\n",
       "      <td>1015.0</td>\n",
       "    </tr>\n",
       "    <tr>\n",
       "      <th>2</th>\n",
       "      <td>4375.0</td>\n",
       "      <td>YBL085b31c627ce4f20b2797d2f91d97244</td>\n",
       "      <td>DEBIT</td>\n",
       "      <td>9.184308e+11</td>\n",
       "      <td>1.009100e+11</td>\n",
       "      <td>8430811435@ybl</td>\n",
       "      <td>None</td>\n",
       "      <td>2022-05-01 09:30:50</td>\n",
       "      <td>01/05/2022 09:30:49</td>\n",
       "      <td>01/05/2022 09:30:50</td>\n",
       "      <td>300.0</td>\n",
       "      <td>SUCCESS</td>\n",
       "      <td>Approved</td>\n",
       "      <td>T2205010930454784236970</td>\n",
       "      <td>8430811435</td>\n",
       "      <td>1009.0</td>\n",
       "    </tr>\n",
       "    <tr>\n",
       "      <th>3</th>\n",
       "      <td>4376.0</td>\n",
       "      <td>AXL4ae3ebb2b1464b7f9a213739a3ea4466</td>\n",
       "      <td>BALANCE ENQUIRY (ISSUING)</td>\n",
       "      <td>9.198190e+11</td>\n",
       "      <td>1.016105e+11</td>\n",
       "      <td>amarpal.rajput@axl</td>\n",
       "      <td>-</td>\n",
       "      <td>2022-05-01 09:30:54</td>\n",
       "      <td>01/05/2022 09:30:54</td>\n",
       "      <td>01/05/2022 09:30:54</td>\n",
       "      <td>0.0</td>\n",
       "      <td>SUCCESS</td>\n",
       "      <td>Approved</td>\n",
       "      <td>UM2205010930472477571373</td>\n",
       "      <td>9818972408</td>\n",
       "      <td>1016.0</td>\n",
       "    </tr>\n",
       "    <tr>\n",
       "      <th>4</th>\n",
       "      <td>4377.0</td>\n",
       "      <td>PTMa854c6b6ebb64748ab004929398e950e</td>\n",
       "      <td>BALANCE ENQUIRY (ISSUING)</td>\n",
       "      <td>9.195202e+11</td>\n",
       "      <td>1.003105e+11</td>\n",
       "      <td>9520212907@paytm</td>\n",
       "      <td>-</td>\n",
       "      <td>2022-05-01 09:30:54</td>\n",
       "      <td>01/05/2022 09:30:54</td>\n",
       "      <td>01/05/2022 09:30:54</td>\n",
       "      <td>0.0</td>\n",
       "      <td>SUCCESS</td>\n",
       "      <td>Approved</td>\n",
       "      <td>PTMa854c6b6ebb64748ab004929398e950e</td>\n",
       "      <td>9520212907</td>\n",
       "      <td>1003.0</td>\n",
       "    </tr>\n",
       "  </tbody>\n",
       "</table>\n",
       "</div>"
      ],
      "text/plain": [
       "     S_NO                              TRAN_ID                  TRAN_TYPE  \\\n",
       "0  4373.0  YBL7c83d2d535e0472989354e661773cdf2                      DEBIT   \n",
       "1  4374.0  IBLb8ecccd7601341439f3ca8984fe06984                     CREDIT   \n",
       "2  4375.0  YBL085b31c627ce4f20b2797d2f91d97244                      DEBIT   \n",
       "3  4376.0  AXL4ae3ebb2b1464b7f9a213739a3ea4466  BALANCE ENQUIRY (ISSUING)   \n",
       "4  4377.0  PTMa854c6b6ebb64748ab004929398e950e  BALANCE ENQUIRY (ISSUING)   \n",
       "\n",
       "      PAYER_MOB  PAYER_ACCT_NO           PAYER_ADDRESS  \\\n",
       "0  9.194100e+11   1.018105e+11  9410041613sandeep1@ybl   \n",
       "1  9.179822e+11   2.015981e+10      avinash.sudhir@ibl   \n",
       "2  9.184308e+11   1.009100e+11          8430811435@ybl   \n",
       "3  9.198190e+11   1.016105e+11      amarpal.rajput@axl   \n",
       "4  9.195202e+11   1.003105e+11        9520212907@paytm   \n",
       "\n",
       "  Payee Account Number (CREDIT txn and mobile nuber to fetch from   \\\n",
       "0                                               None                 \n",
       "1                                               None                 \n",
       "2                                               None                 \n",
       "3                                                  -                 \n",
       "4                                                  -                 \n",
       "\n",
       "       TRAN_DATE_TIME    REQUEST_DATE_TIME   RESPONSE_DATE_TIME  AMOUNT  \\\n",
       "0 2022-05-01 09:30:47  01/05/2022 09:30:47  01/05/2022 09:30:47   400.0   \n",
       "1 2022-05-01 09:30:48  01/05/2022 09:30:48  01/05/2022 09:30:49   128.0   \n",
       "2 2022-05-01 09:30:50  01/05/2022 09:30:49  01/05/2022 09:30:50   300.0   \n",
       "3 2022-05-01 09:30:54  01/05/2022 09:30:54  01/05/2022 09:30:54     0.0   \n",
       "4 2022-05-01 09:30:54  01/05/2022 09:30:54  01/05/2022 09:30:54     0.0   \n",
       "\n",
       "  TRAN_STATUS RESPONSE_ADDRESS                          TRAN_REF_ID  \\\n",
       "0     SUCCESS         Approved              T2205010930376401168006   \n",
       "1     SUCCESS         Approved              T2205010930344319085607   \n",
       "2     SUCCESS         Approved              T2205010930454784236970   \n",
       "3     SUCCESS         Approved             UM2205010930472477571373   \n",
       "4     SUCCESS         Approved  PTMa854c6b6ebb64748ab004929398e950e   \n",
       "\n",
       "  PAYEE_MOB_NO  SOL_ID  \n",
       "0   9410041613  1018.0  \n",
       "1   7982150844  1015.0  \n",
       "2   8430811435  1009.0  \n",
       "3   9818972408  1016.0  \n",
       "4   9520212907  1003.0  "
      ]
     },
     "execution_count": 8,
     "metadata": {},
     "output_type": "execute_result"
    }
   ],
   "source": [
    "df.head()"
   ]
  },
  {
   "cell_type": "code",
   "execution_count": 24,
   "metadata": {
    "id": "6b8v7EBsI_ma"
   },
   "outputs": [],
   "source": [
    "df.rename(columns={'TRAN_TYPE':'Transaction Type','PAYER_ACCT_NO':'Payer Account Number ( for DEBIT)','TRAN_DATE_TIME':'Transaction Date Time','AMOUNT':'Amount','Payee Account Number (CREDIT txn and mobile nuber to fetch from':'Payee Account Number (CREDIT txn and mobile nuber to fetch from cbs)','PAYER_ADDRESS':'Payer Address'},inplace=True)"
   ]
  },
  {
   "cell_type": "code",
   "execution_count": null,
   "metadata": {
    "id": "YoY8TIQ0mnvT"
   },
   "outputs": [],
   "source": [
    "# df.head()"
   ]
  },
  {
   "cell_type": "code",
   "execution_count": null,
   "metadata": {
    "id": "sUaF2SVMn375"
   },
   "outputs": [],
   "source": [
    "# df.describe()"
   ]
  },
  {
   "cell_type": "code",
   "execution_count": null,
   "metadata": {
    "id": "WtkPNHmaoD18"
   },
   "outputs": [],
   "source": [
    "# df.info()"
   ]
  },
  {
   "cell_type": "code",
   "execution_count": 26,
   "metadata": {
    "colab": {
     "base_uri": "https://localhost:8080/",
     "height": 238
    },
    "id": "y2I6pVV5AqGW",
    "outputId": "0b99f112-b82c-44f7-df20-05665297427a"
   },
   "outputs": [
    {
     "data": {
      "text/html": [
       "<div>\n",
       "<style scoped>\n",
       "    .dataframe tbody tr th:only-of-type {\n",
       "        vertical-align: middle;\n",
       "    }\n",
       "\n",
       "    .dataframe tbody tr th {\n",
       "        vertical-align: top;\n",
       "    }\n",
       "\n",
       "    .dataframe thead th {\n",
       "        text-align: right;\n",
       "    }\n",
       "</style>\n",
       "<table border=\"1\" class=\"dataframe\">\n",
       "  <thead>\n",
       "    <tr style=\"text-align: right;\">\n",
       "      <th></th>\n",
       "      <th>Transaction Date Time</th>\n",
       "      <th>Amount</th>\n",
       "      <th>Payee Account Number (CREDIT txn and mobile nuber to fetch from cbs)</th>\n",
       "      <th>Payer Address</th>\n",
       "    </tr>\n",
       "    <tr>\n",
       "      <th>Payer Account Number ( for DEBIT)</th>\n",
       "      <th></th>\n",
       "      <th></th>\n",
       "      <th></th>\n",
       "      <th></th>\n",
       "    </tr>\n",
       "  </thead>\n",
       "  <tbody>\n",
       "    <tr>\n",
       "      <th>1.018105e+11</th>\n",
       "      <td>2022-05-01 09:30:47</td>\n",
       "      <td>400.0</td>\n",
       "      <td>None</td>\n",
       "      <td>9410041613sandeep1@ybl</td>\n",
       "    </tr>\n",
       "    <tr>\n",
       "      <th>1.009100e+11</th>\n",
       "      <td>2022-05-01 09:30:50</td>\n",
       "      <td>300.0</td>\n",
       "      <td>None</td>\n",
       "      <td>8430811435@ybl</td>\n",
       "    </tr>\n",
       "    <tr>\n",
       "      <th>1.009101e+11</th>\n",
       "      <td>2022-05-01 09:31:08</td>\n",
       "      <td>200.0</td>\n",
       "      <td>None</td>\n",
       "      <td>mohdshadab499791@ybl</td>\n",
       "    </tr>\n",
       "    <tr>\n",
       "      <th>1.028120e+11</th>\n",
       "      <td>2022-05-01 09:31:09</td>\n",
       "      <td>20942.0</td>\n",
       "      <td>None</td>\n",
       "      <td>kundanmobilegallery@ybl</td>\n",
       "    </tr>\n",
       "    <tr>\n",
       "      <th>1.003105e+11</th>\n",
       "      <td>2022-05-01 09:31:14</td>\n",
       "      <td>11.0</td>\n",
       "      <td>None</td>\n",
       "      <td>9520212907@paytm</td>\n",
       "    </tr>\n",
       "  </tbody>\n",
       "</table>\n",
       "</div>"
      ],
      "text/plain": [
       "                                  Transaction Date Time   Amount  \\\n",
       "Payer Account Number ( for DEBIT)                                  \n",
       "1.018105e+11                        2022-05-01 09:30:47    400.0   \n",
       "1.009100e+11                        2022-05-01 09:30:50    300.0   \n",
       "1.009101e+11                        2022-05-01 09:31:08    200.0   \n",
       "1.028120e+11                        2022-05-01 09:31:09  20942.0   \n",
       "1.003105e+11                        2022-05-01 09:31:14     11.0   \n",
       "\n",
       "                                  Payee Account Number (CREDIT txn and mobile nuber to fetch from cbs)  \\\n",
       "Payer Account Number ( for DEBIT)                                                                        \n",
       "1.018105e+11                                                                    None                     \n",
       "1.009100e+11                                                                    None                     \n",
       "1.009101e+11                                                                    None                     \n",
       "1.028120e+11                                                                    None                     \n",
       "1.003105e+11                                                                    None                     \n",
       "\n",
       "                                             Payer Address  \n",
       "Payer Account Number ( for DEBIT)                           \n",
       "1.018105e+11                        9410041613sandeep1@ybl  \n",
       "1.009100e+11                                8430811435@ybl  \n",
       "1.009101e+11                          mohdshadab499791@ybl  \n",
       "1.028120e+11                       kundanmobilegallery@ybl  \n",
       "1.003105e+11                              9520212907@paytm  "
      ]
     },
     "execution_count": 26,
     "metadata": {},
     "output_type": "execute_result"
    }
   ],
   "source": [
    "df1 = df.loc[df['Transaction Type'] == 'DEBIT']\n",
    "cols = [\"Payer Account Number ( for DEBIT)\",\"Transaction Date Time\",\"Amount\",\"Payee Account Number (CREDIT txn and mobile nuber to fetch from cbs)\", \"Payer Address\"]\n",
    "df1 = df1[cols]\n",
    "df['Payer Account Number ( for DEBIT)']=df['Payer Account Number ( for DEBIT)'].astype(str)\n",
    "df['Payee Account Number (CREDIT txn and mobile nuber to fetch from cbs)']=df['Payee Account Number (CREDIT txn and mobile nuber to fetch from cbs)'].astype(str)\n",
    "df1 = df1.set_index('Payer Account Number ( for DEBIT)')\n",
    "df1.head()"
   ]
  },
  {
   "cell_type": "code",
   "execution_count": 27,
   "metadata": {
    "id": "sBBykY7BnBlJ"
   },
   "outputs": [],
   "source": [
    "def getRecent(sdf):\n",
    "  try:\n",
    "    return sdf[\"Transaction Date Time\"].iloc[-1]\n",
    "  except:\n",
    "    return sdf[\"Transaction Date Time\"]\n",
    "def getRecentAcc_no(sdf):\n",
    "  try:\n",
    "    return sdf[\"Payee Account Number (CREDIT txn and mobile nuber to fetch from cbs)\"].iloc[-1]\n",
    "  except:\n",
    "    return sdf[\"Payee Account Number (CREDIT txn and mobile nuber to fetch from cbs)\"]\n",
    "def getAddress(sdf):\n",
    "  d = dict()\n",
    "  try:\n",
    "    max=0\n",
    "    for i in sdf['Payer Address']:\n",
    "      upi = i.split('@')[1]\n",
    "      try:\n",
    "        d[upi]+=1\n",
    "        max=max(d[upi],max)\n",
    "      except:\n",
    "        d[upi]=1\n",
    "        max=max(d[upi],max)\n",
    "  except:\n",
    "    pass\n",
    "  d[\"max_recent_freq\"]=max\n",
    "  return str(d)\n",
    "def TimeSlot(sdf, start, end):\n",
    "    ct = 0\n",
    "    try:\n",
    "      for i in sdf['Transaction Date Time']:\n",
    "        time = i.time()\n",
    "        if time>=start and time<=end:\n",
    "          ct += 1\n",
    "    except:\n",
    "      pass\n",
    "    return ct\n",
    "def AmountSlot(sdf, minimum, maximum):\n",
    "  ct = 0\n",
    "  try:\n",
    "    for i in sdf['Amount']:\n",
    "      if i>=minimum and i<=maximum:\n",
    "        ct += 1\n",
    "  except:\n",
    "    pass\n",
    "  return ct"
   ]
  },
  {
   "cell_type": "code",
   "execution_count": 29,
   "metadata": {
    "id": "wR23TPv6Jtdi"
   },
   "outputs": [],
   "source": [
    "def getData(sdf, unique_acc):\n",
    "  res = [unique_acc]\n",
    "  \n",
    "  maxi=0\n",
    "  start = datetime.time(0, 0, 0)\n",
    "  end = datetime.time(3, 59, 59)\n",
    "  v=TimeSlot(sdf, start, end)\n",
    "  maxi=max(maxi,v)\n",
    "  res.append(v)\n",
    "\n",
    "  start = datetime.time(4, 0, 0)\n",
    "  end = datetime.time(7, 59, 59)\n",
    "  v=TimeSlot(sdf, start, end)\n",
    "  maxi=max(maxi,v)\n",
    "  res.append(v)\n",
    "\n",
    "  start = datetime.time(8, 0, 0)\n",
    "  end = datetime.time(11, 59, 59)\n",
    "  v=TimeSlot(sdf, start, end)\n",
    "  maxi=max(maxi,v)\n",
    "  res.append(v)\n",
    "\n",
    "  start = datetime.time(12, 0, 0)\n",
    "  end = datetime.time(15, 59, 59)\n",
    "  v=TimeSlot(sdf, start, end)\n",
    "  maxi=max(maxi,v)\n",
    "  res.append(v)\n",
    "\n",
    "  start = datetime.time(16, 0, 0)\n",
    "  end = datetime.time(19, 59, 59)\n",
    "  res.append(TimeSlot(sdf, start, end))\n",
    "  maxi=max(maxi,TimeSlot(sdf, start, end))\n",
    "\n",
    "  start = datetime.time(20, 0, 0)\n",
    "  end = datetime.time(23, 59, 59)\n",
    "  v=TimeSlot(sdf, start, end)\n",
    "  maxi=max(maxi,v)\n",
    "  res.append(v)\n",
    "\n",
    "  res.append(maxi)\n",
    "  maxi=0\n",
    "\n",
    "  for i in range(0, 100000, 5000):\n",
    "    minimum = i\n",
    "    maximum = i+4999\n",
    "    v=AmountSlot(sdf, minimum, maximum)\n",
    "    maxi=max(maxi,v)\n",
    "    res.append(v)\n",
    "\n",
    "  res.append(maxi)\n",
    "\n",
    "  res.append(getAddress(sdf))\n",
    "  res.append(getRecent(sdf))\n",
    "  res.append(getRecentAcc_no(sdf))\n",
    "\n",
    "  return res"
   ]
  },
  {
   "cell_type": "code",
   "execution_count": 30,
   "metadata": {
    "id": "6zuU_jRGHnle"
   },
   "outputs": [],
   "source": [
    "ct=0\n",
    "mdf = pd.DataFrame(columns=['Payer Account Number', 'TimeSlot1', 'TimeSlot2', 'TimeSlot3', 'TimeSlot4', 'TimeSlot5', 'TimeSlot6','maxtimefreq', 'Amount1', 'Amount2', 'Amount3', 'Amount4', 'Amount5', 'Amount6', 'Amount7', 'Amount8', 'Amount9', 'Amount10', 'Amount11', 'Amount12', 'Amount13', 'Amount14', 'Amount15', 'Amount16', 'Amount17', 'Amount18', 'Amount19', 'Amount20','maxamountfreq', 'UPI', 'Recent Transaction', 'Last Payee Account Number'])\n",
    "\n",
    "for unique_acc in df1.index.unique():\n",
    "  sdf = df1.loc[unique_acc]\n",
    "  mdf.loc[ct] = getData(sdf, unique_acc)\n",
    "  ct += 1"
   ]
  },
  {
   "cell_type": "code",
   "execution_count": 31,
   "metadata": {
    "colab": {
     "base_uri": "https://localhost:8080/",
     "height": 508
    },
    "id": "ReT8FophMFL5",
    "outputId": "74f61d01-18b5-468d-d3b6-1f40ae43ad55"
   },
   "outputs": [
    {
     "data": {
      "text/html": [
       "<div>\n",
       "<style scoped>\n",
       "    .dataframe tbody tr th:only-of-type {\n",
       "        vertical-align: middle;\n",
       "    }\n",
       "\n",
       "    .dataframe tbody tr th {\n",
       "        vertical-align: top;\n",
       "    }\n",
       "\n",
       "    .dataframe thead th {\n",
       "        text-align: right;\n",
       "    }\n",
       "</style>\n",
       "<table border=\"1\" class=\"dataframe\">\n",
       "  <thead>\n",
       "    <tr style=\"text-align: right;\">\n",
       "      <th></th>\n",
       "      <th>Payer Account Number</th>\n",
       "      <th>TimeSlot1</th>\n",
       "      <th>TimeSlot2</th>\n",
       "      <th>TimeSlot3</th>\n",
       "      <th>TimeSlot4</th>\n",
       "      <th>TimeSlot5</th>\n",
       "      <th>TimeSlot6</th>\n",
       "      <th>maxtimefreq</th>\n",
       "      <th>Amount1</th>\n",
       "      <th>Amount2</th>\n",
       "      <th>...</th>\n",
       "      <th>Amount15</th>\n",
       "      <th>Amount16</th>\n",
       "      <th>Amount17</th>\n",
       "      <th>Amount18</th>\n",
       "      <th>Amount19</th>\n",
       "      <th>Amount20</th>\n",
       "      <th>maxamountfreq</th>\n",
       "      <th>UPI</th>\n",
       "      <th>Recent Transaction</th>\n",
       "      <th>Last Payee Account Number</th>\n",
       "    </tr>\n",
       "  </thead>\n",
       "  <tbody>\n",
       "    <tr>\n",
       "      <th>0</th>\n",
       "      <td>1.018105e+11</td>\n",
       "      <td>0</td>\n",
       "      <td>0</td>\n",
       "      <td>2</td>\n",
       "      <td>0</td>\n",
       "      <td>0</td>\n",
       "      <td>0</td>\n",
       "      <td>2</td>\n",
       "      <td>2</td>\n",
       "      <td>0</td>\n",
       "      <td>...</td>\n",
       "      <td>0</td>\n",
       "      <td>0</td>\n",
       "      <td>0</td>\n",
       "      <td>0</td>\n",
       "      <td>0</td>\n",
       "      <td>0</td>\n",
       "      <td>2</td>\n",
       "      <td>{'ybl': 1, 'max_recent_freq': 0}</td>\n",
       "      <td>2022-05-01 09:29:43</td>\n",
       "      <td>None</td>\n",
       "    </tr>\n",
       "    <tr>\n",
       "      <th>1</th>\n",
       "      <td>1.009100e+11</td>\n",
       "      <td>0</td>\n",
       "      <td>0</td>\n",
       "      <td>2</td>\n",
       "      <td>0</td>\n",
       "      <td>2</td>\n",
       "      <td>3</td>\n",
       "      <td>3</td>\n",
       "      <td>7</td>\n",
       "      <td>0</td>\n",
       "      <td>...</td>\n",
       "      <td>0</td>\n",
       "      <td>0</td>\n",
       "      <td>0</td>\n",
       "      <td>0</td>\n",
       "      <td>0</td>\n",
       "      <td>0</td>\n",
       "      <td>7</td>\n",
       "      <td>{'ybl': 1, 'max_recent_freq': 0}</td>\n",
       "      <td>2022-05-02 16:52:41</td>\n",
       "      <td>MC100007583999</td>\n",
       "    </tr>\n",
       "    <tr>\n",
       "      <th>2</th>\n",
       "      <td>1.009101e+11</td>\n",
       "      <td>0</td>\n",
       "      <td>0</td>\n",
       "      <td>1</td>\n",
       "      <td>0</td>\n",
       "      <td>2</td>\n",
       "      <td>1</td>\n",
       "      <td>2</td>\n",
       "      <td>3</td>\n",
       "      <td>0</td>\n",
       "      <td>...</td>\n",
       "      <td>0</td>\n",
       "      <td>0</td>\n",
       "      <td>0</td>\n",
       "      <td>0</td>\n",
       "      <td>0</td>\n",
       "      <td>0</td>\n",
       "      <td>3</td>\n",
       "      <td>{'ybl': 1, 'max_recent_freq': 0}</td>\n",
       "      <td>2022-05-02 20:29:52</td>\n",
       "      <td>None</td>\n",
       "    </tr>\n",
       "    <tr>\n",
       "      <th>3</th>\n",
       "      <td>1.028120e+11</td>\n",
       "      <td>0</td>\n",
       "      <td>0</td>\n",
       "      <td>3</td>\n",
       "      <td>0</td>\n",
       "      <td>0</td>\n",
       "      <td>0</td>\n",
       "      <td>3</td>\n",
       "      <td>0</td>\n",
       "      <td>0</td>\n",
       "      <td>...</td>\n",
       "      <td>0</td>\n",
       "      <td>0</td>\n",
       "      <td>0</td>\n",
       "      <td>0</td>\n",
       "      <td>0</td>\n",
       "      <td>0</td>\n",
       "      <td>3</td>\n",
       "      <td>{'ybl': 1, 'max_recent_freq': 0}</td>\n",
       "      <td>2022-05-01 09:29:55</td>\n",
       "      <td>None</td>\n",
       "    </tr>\n",
       "    <tr>\n",
       "      <th>4</th>\n",
       "      <td>1.003105e+11</td>\n",
       "      <td>0</td>\n",
       "      <td>0</td>\n",
       "      <td>2</td>\n",
       "      <td>1</td>\n",
       "      <td>1</td>\n",
       "      <td>3</td>\n",
       "      <td>3</td>\n",
       "      <td>7</td>\n",
       "      <td>0</td>\n",
       "      <td>...</td>\n",
       "      <td>0</td>\n",
       "      <td>0</td>\n",
       "      <td>0</td>\n",
       "      <td>0</td>\n",
       "      <td>0</td>\n",
       "      <td>0</td>\n",
       "      <td>7</td>\n",
       "      <td>{'paytm': 1, 'max_recent_freq': 0}</td>\n",
       "      <td>2022-05-01 14:31:35</td>\n",
       "      <td>MC100005494584</td>\n",
       "    </tr>\n",
       "  </tbody>\n",
       "</table>\n",
       "<p>5 rows × 32 columns</p>\n",
       "</div>"
      ],
      "text/plain": [
       "   Payer Account Number TimeSlot1 TimeSlot2 TimeSlot3 TimeSlot4 TimeSlot5  \\\n",
       "0          1.018105e+11         0         0         2         0         0   \n",
       "1          1.009100e+11         0         0         2         0         2   \n",
       "2          1.009101e+11         0         0         1         0         2   \n",
       "3          1.028120e+11         0         0         3         0         0   \n",
       "4          1.003105e+11         0         0         2         1         1   \n",
       "\n",
       "  TimeSlot6 maxtimefreq Amount1 Amount2  ... Amount15 Amount16 Amount17  \\\n",
       "0         0           2       2       0  ...        0        0        0   \n",
       "1         3           3       7       0  ...        0        0        0   \n",
       "2         1           2       3       0  ...        0        0        0   \n",
       "3         0           3       0       0  ...        0        0        0   \n",
       "4         3           3       7       0  ...        0        0        0   \n",
       "\n",
       "  Amount18 Amount19 Amount20 maxamountfreq  \\\n",
       "0        0        0        0             2   \n",
       "1        0        0        0             7   \n",
       "2        0        0        0             3   \n",
       "3        0        0        0             3   \n",
       "4        0        0        0             7   \n",
       "\n",
       "                                  UPI  Recent Transaction  \\\n",
       "0    {'ybl': 1, 'max_recent_freq': 0} 2022-05-01 09:29:43   \n",
       "1    {'ybl': 1, 'max_recent_freq': 0} 2022-05-02 16:52:41   \n",
       "2    {'ybl': 1, 'max_recent_freq': 0} 2022-05-02 20:29:52   \n",
       "3    {'ybl': 1, 'max_recent_freq': 0} 2022-05-01 09:29:55   \n",
       "4  {'paytm': 1, 'max_recent_freq': 0} 2022-05-01 14:31:35   \n",
       "\n",
       "  Last Payee Account Number  \n",
       "0                      None  \n",
       "1            MC100007583999  \n",
       "2                      None  \n",
       "3                      None  \n",
       "4            MC100005494584  \n",
       "\n",
       "[5 rows x 32 columns]"
      ]
     },
     "execution_count": 31,
     "metadata": {},
     "output_type": "execute_result"
    }
   ],
   "source": [
    "mdf.head()"
   ]
  },
  {
   "cell_type": "code",
   "execution_count": 32,
   "metadata": {
    "id": "b78GoAMnvxKo"
   },
   "outputs": [],
   "source": [
    "def Time(sdf):\n",
    "  d = dict()\n",
    "  base = 'TimeSlot'\n",
    "  times = []\n",
    "  for i in range(1, 7, 1):\n",
    "    time = sdf[base+str(i)]\n",
    "    times.append(time)\n",
    "  \n",
    "  times.sort(reverse=True)\n",
    "\n",
    "  res = []\n",
    "  \n",
    "  for i in range(0, 6):\n",
    "    diff = times[0]-times[i]\n",
    "    res.append(diff)\n",
    "  \n",
    "  return str(res)"
   ]
  },
  {
   "cell_type": "code",
   "execution_count": 33,
   "metadata": {
    "colab": {
     "base_uri": "https://localhost:8080/",
     "height": 35
    },
    "id": "8ORcaip0U5YK",
    "outputId": "fbbab189-e2b2-42fc-f8f4-36a1b00efc23"
   },
   "outputs": [
    {
     "data": {
      "text/plain": [
       "'[0, 1, 3, 3, 4, 4]'"
      ]
     },
     "execution_count": 33,
     "metadata": {},
     "output_type": "execute_result"
    }
   ],
   "source": [
    "sdf = mdf.iloc[10]\n",
    "Time(sdf)"
   ]
  },
  {
   "cell_type": "code",
   "execution_count": 34,
   "metadata": {
    "colab": {
     "base_uri": "https://localhost:8080/"
    },
    "id": "E82NfvknU6Zv",
    "outputId": "003d7fae-8769-452d-c058-8bbb4605bc2e"
   },
   "outputs": [
    {
     "data": {
      "text/plain": [
       "Payer Account Number                           100910512089.0\n",
       "TimeSlot1                                                   0\n",
       "TimeSlot2                                                   0\n",
       "TimeSlot3                                                   4\n",
       "TimeSlot4                                                   3\n",
       "TimeSlot5                                                   1\n",
       "TimeSlot6                                                   1\n",
       "maxtimefreq                                                 4\n",
       "Amount1                                                     9\n",
       "Amount2                                                     0\n",
       "Amount3                                                     0\n",
       "Amount4                                                     0\n",
       "Amount5                                                     0\n",
       "Amount6                                                     0\n",
       "Amount7                                                     0\n",
       "Amount8                                                     0\n",
       "Amount9                                                     0\n",
       "Amount10                                                    0\n",
       "Amount11                                                    0\n",
       "Amount12                                                    0\n",
       "Amount13                                                    0\n",
       "Amount14                                                    0\n",
       "Amount15                                                    0\n",
       "Amount16                                                    0\n",
       "Amount17                                                    0\n",
       "Amount18                                                    0\n",
       "Amount19                                                    0\n",
       "Amount20                                                    0\n",
       "maxamountfreq                                               9\n",
       "UPI                          {'axl': 1, 'max_recent_freq': 0}\n",
       "Recent Transaction                        2022-05-02 12:32:39\n",
       "Last Payee Account Number                                None\n",
       "Name: 10, dtype: object"
      ]
     },
     "execution_count": 34,
     "metadata": {},
     "output_type": "execute_result"
    }
   ],
   "source": [
    "mdf.iloc[10]"
   ]
  },
  {
   "cell_type": "code",
   "execution_count": 35,
   "metadata": {
    "id": "P4ueCoeZ8YMf"
   },
   "outputs": [],
   "source": [
    "mdf = mdf.set_index('Payer Account Number')"
   ]
  },
  {
   "cell_type": "code",
   "execution_count": 50,
   "metadata": {
    "id": "a5FOzlrJWQsO"
   },
   "outputs": [],
   "source": [
    "def get_score(acc_no,amount,payee_acc_num,payer_address):\n",
    "  payer_address=payer_address.split('@')[1]\n",
    "  #try and catch block to check whether the payer account number is present in our database or not\n",
    "  tdf=None\n",
    "  try:\n",
    "    tdf=mdf.loc[acc_no]\n",
    "  except Exception as e:\n",
    "    print(\"Account number is not present in the database\")\n",
    "    return 299\n",
    "\n",
    "  score=0\n",
    "\n",
    "  \n",
    "  #To generate score for frequency corresponding to the given payee account number\n",
    "  last=tdf[\"Recent Transaction\"]\n",
    "  last=str(last).split('.')[0]\n",
    "  last=datetime.datetime.strptime(str(last), '%Y-%m-%d %H:%M:%S')\n",
    "  last_payee=tdf[\"Last Payee Account Number\"]\n",
    "  now=datetime.datetime.now()\n",
    "  curr_time=now.time()\n",
    "  d=now-last\n",
    "  if d.days==0:\n",
    "    time_diff=d.seconds//60\n",
    "    if time_diff<=4 and payee_acc_num==last_payee:\n",
    "      score=20 \n",
    "      print(\"Last transaction was made to the same account number within 4 minutes!!!\")\n",
    "    else:\n",
    "      score=2.25\n",
    "\n",
    "  #To generate the score for payer address\n",
    "  upi=eval(tdf[\"UPI\"])\n",
    "  if payer_address in upi:\n",
    "    v=upi.get(payer_address)\n",
    "    maximum=upi.get('max_recent_freq')\n",
    "    if maximum!=0:\n",
    "        s=10.0-((10.0/maximum)*v)\n",
    "        score+=s\n",
    "    else:\n",
    "        score+=10\n",
    "  else:\n",
    "    print(\"Payer address is not present in the database\")\n",
    "    score+=10.0 #generating very high score because payer address is not present corresponding to the payer account number\n",
    "  \n",
    "  #To generate score for time slot\n",
    "  timeslot=\"TimeSlot\"\n",
    "  now=datetime.datetime.now()\n",
    "  curr_time=now.time()\n",
    "  if curr_time>=datetime.time(0, 0, 0) and curr_time<=datetime.time(3, 59, 59):\n",
    "    timeslot=\"TimeSlot1\"\n",
    "  elif curr_time>=datetime.time(4, 0, 0) and curr_time<=datetime.time(7, 59, 59):\n",
    "    timeslot=\"TimeSlot2\"\n",
    "  elif curr_time>=datetime.time(8, 0, 0) and curr_time<=datetime.time(11, 59, 59):\n",
    "    timeslot=\"TimeSlot3\"\n",
    "  elif curr_time>=datetime.time(12, 0, 0) and curr_time<=datetime.time(15, 59, 59):\n",
    "    timeslot=\"TimeSlot4\"\n",
    "  elif curr_time>=datetime.time(16, 0, 0) and curr_time<=datetime.time(19, 59, 59):\n",
    "    timeslot=\"TimeSlot5\"\n",
    "  else:\n",
    "    timeslot=\"TimeSlot6\"\n",
    "  \n",
    "  timeslot1=tdf[timeslot]\n",
    "  maximum=tdf[\"maxtimefreq\"]\n",
    "  if maximum!=0:\n",
    "        s=10.0-((10.0/maximum)*timeslot1)\n",
    "        score+=s\n",
    "  else:\n",
    "    score+=10\n",
    "  if timeslot1==0:\n",
    "    print(\"Out of normal transaction timing habit!!!\")\n",
    "  \n",
    "  #To generate score for amount slot\n",
    "  amountslot=\"Amount\"\n",
    "  k=0\n",
    "  for i in range(0, 100000, 5000):\n",
    "    minimum = i\n",
    "    maximum = i+4999\n",
    "    k=k+1\n",
    "    if amount>=minimum and amount<=maximum:\n",
    "      amountslot=amountslot+str(k)\n",
    "      break\n",
    "    amountslot1=tdf[amountslot]\n",
    "    maximum=tdf[\"maxamountfreq\"]\n",
    "    if maximum!=0:\n",
    "        s=10.0-((10.0/maximum)*amountslot1)\n",
    "        score+=s\n",
    "    else:\n",
    "        score+=10\n",
    "    if amountslot1==0:\n",
    "      print(\"Out of normal transaction amount habit!!!\")\n",
    "\n",
    "  # updating the value of recent transaction date time and payee account number\n",
    "  tdf[\"Recent Transaction\"]=str(now)\n",
    "  tdf[\"Last Payee Account Number\"]=payee_acc_num\n",
    "  mdf.loc[acc_no]=tdf\n",
    "\n",
    "  return score\n"
   ]
  },
  {
   "cell_type": "code",
   "execution_count": 51,
   "metadata": {
    "colab": {
     "base_uri": "https://localhost:8080/"
    },
    "id": "yFm-pFxRq9Hr",
    "outputId": "537e0b5e-70c9-4ecb-db31-f87d33b53403"
   },
   "outputs": [
    {
     "name": "stdout",
     "output_type": "stream",
     "text": [
      "Payer address is not present in the database\n",
      "Out of normal transaction timing habit!!!\n",
      "20.0\n"
     ]
    },
    {
     "name": "stderr",
     "output_type": "stream",
     "text": [
      "C:\\ProgramData\\Anaconda3\\lib\\site-packages\\pandas\\core\\series.py:1056: SettingWithCopyWarning: \n",
      "A value is trying to be set on a copy of a slice from a DataFrame\n",
      "\n",
      "See the caveats in the documentation: https://pandas.pydata.org/pandas-docs/stable/user_guide/indexing.html#returning-a-view-versus-a-copy\n",
      "  cacher_needs_updating = self._check_is_chained_assignment_possible()\n"
     ]
    }
   ],
   "source": [
    "print(get_score(100112250233,250,20148987029,\"8130528356@hbd\"))"
   ]
  },
  {
   "cell_type": "code",
   "execution_count": null,
   "metadata": {
    "colab": {
     "base_uri": "https://localhost:8080/"
    },
    "id": "gon8xGAWCfXT",
    "outputId": "00250b7e-da8f-446a-ee89-e0232065d928"
   },
   "outputs": [],
   "source": [
    "ab=mdf.loc[100112250233]\n",
    "print(ab)"
   ]
  },
  {
   "cell_type": "code",
   "execution_count": null,
   "metadata": {
    "id": "rVHuL8FWPeGr"
   },
   "outputs": [],
   "source": []
  }
 ],
 "metadata": {
  "colab": {
   "collapsed_sections": [],
   "name": "07/07/2022.ipynb",
   "provenance": []
  },
  "kernelspec": {
   "display_name": "Python 3 (ipykernel)",
   "language": "python",
   "name": "python3"
  },
  "language_info": {
   "codemirror_mode": {
    "name": "ipython",
    "version": 3
   },
   "file_extension": ".py",
   "mimetype": "text/x-python",
   "name": "python",
   "nbconvert_exporter": "python",
   "pygments_lexer": "ipython3",
   "version": "3.9.7"
  }
 },
 "nbformat": 4,
 "nbformat_minor": 1
}
